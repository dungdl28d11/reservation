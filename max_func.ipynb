{
 "metadata": {
  "language_info": {
   "codemirror_mode": {
    "name": "ipython",
    "version": 3
   },
   "file_extension": ".py",
   "mimetype": "text/x-python",
   "name": "python",
   "nbconvert_exporter": "python",
   "pygments_lexer": "ipython3",
   "version": "3.7.4-final"
  },
  "orig_nbformat": 2,
  "kernelspec": {
   "name": "python3",
   "display_name": "Python 3"
  }
 },
 "nbformat": 4,
 "nbformat_minor": 2,
 "cells": [
  {
   "cell_type": "code",
   "execution_count": 1,
   "metadata": {},
   "outputs": [],
   "source": [
    "# MARK:- libs\n",
    "import pandas as pd \n",
    "import numpy as np \n",
    "from datetime import datetime, date, timedelta"
   ]
  },
  {
   "cell_type": "code",
   "execution_count": 2,
   "metadata": {},
   "outputs": [],
   "source": [
    "# MARK:- read input\n",
    "path = 'reservation.csv'\n",
    "data_df = pd.read_csv(path)\n",
    "data_df.check_in_date = pd.to_datetime(data_df.check_in_date)\n",
    "data_df.check_out_date = pd.to_datetime(data_df.check_out_date)"
   ]
  },
  {
   "cell_type": "code",
   "execution_count": 3,
   "metadata": {},
   "outputs": [],
   "source": [
    "# MARK:- calculating number of nights and price for each night for each period\n",
    "data_df['night_no'] = data_df.apply(lambda row: (row['check_out_date'] - row['check_in_date']).days, axis=1)\n",
    "data_df['punit'] = data_df.price / data_df.night_no"
   ]
  },
  {
   "cell_type": "code",
   "execution_count": 5,
   "metadata": {},
   "outputs": [],
   "source": [
    "# MARK:- requirements for function f\n",
    "min_range = min(data_df.check_in_date).date()\n",
    "max_range = max(data_df.check_out_date).date()\n",
    "relieve = pd.DataFrame(pd.date_range(min_range, max_range))\n",
    "relieve.columns = ['day']\n",
    "relieve['available'] = relieve.day.apply(lambda x: [row['punit'] for idx, row in data_df.iterrows() if row['check_in_date'] <= x < row['check_out_date']])"
   ]
  },
  {
   "cell_type": "code",
   "execution_count": 6,
   "metadata": {
    "tags": []
   },
   "outputs": [],
   "source": [
    "def f(x, hops=10):\n",
    "    if x not in relieve.day.astype(str).values:\n",
    "        return (0,0)\n",
    "    booking = relieve[relieve.day.astype(str) == x].available.values[0]\n",
    "    booking = sorted(booking)\n",
    "    if len(booking) == 0:\n",
    "        return (0,0)\n",
    "    if len(booking) == 1:\n",
    "        return (booking[0], booking[0])\n",
    "    y = 0\n",
    "    max_profit = 0\n",
    "    idx = 0\n",
    "    for idx in range(len(booking)):\n",
    "        threshold = booking[idx]\n",
    "        profit = threshold * len([b for b in booking if b >= threshold])\n",
    "        if profit >= max_profit:\n",
    "            max_profit = profit\n",
    "            update = True\n",
    "            y = threshold\n",
    "        \n",
    "    return (y, max_profit)"
   ]
  },
  {
   "cell_type": "code",
   "execution_count": 7,
   "metadata": {
    "tags": []
   },
   "outputs": [
    {
     "output_type": "execute_result",
     "data": {
      "text/plain": "198958254.0"
     },
     "metadata": {},
     "execution_count": 7
    }
   ],
   "source": [
    "profit = relieve.day.astype(str).apply(lambda x: f(x)[1]).values\n",
    "max_sum = sum(profit)\n",
    "max_sum"
   ]
  },
  {
   "cell_type": "code",
   "execution_count": null,
   "metadata": {},
   "outputs": [],
   "source": []
  }
 ]
}