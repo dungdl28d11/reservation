{
 "metadata": {
  "language_info": {
   "codemirror_mode": {
    "name": "ipython",
    "version": 3
   },
   "file_extension": ".py",
   "mimetype": "text/x-python",
   "name": "python",
   "nbconvert_exporter": "python",
   "pygments_lexer": "ipython3",
   "version": "3.7.4-final"
  },
  "orig_nbformat": 2,
  "kernelspec": {
   "name": "python3",
   "display_name": "Python 3"
  }
 },
 "nbformat": 4,
 "nbformat_minor": 2,
 "cells": [
  {
   "cell_type": "code",
   "execution_count": 1,
   "metadata": {},
   "outputs": [],
   "source": [
    "# MARK:- libs\n",
    "import pandas as pd \n",
    "import numpy as np \n",
    "from datetime import datetime, date, timedelta"
   ]
  },
  {
   "cell_type": "code",
   "execution_count": 2,
   "metadata": {},
   "outputs": [],
   "source": [
    "# MARK:- read input\n",
    "path = 'reservation.csv'\n",
    "data_df = pd.read_csv(path)\n",
    "data_df.check_in_date = pd.to_datetime(data_df.check_in_date)\n",
    "data_df.check_out_date = pd.to_datetime(data_df.check_out_date)"
   ]
  },
  {
   "cell_type": "code",
   "execution_count": 3,
   "metadata": {},
   "outputs": [
    {
     "output_type": "execute_result",
     "data": {
      "text/plain": "    check_in_date check_out_date    price  night_no     punit\n0      2018-10-14     2018-10-15   226495         1  226495.0\n1      2018-10-15     2018-10-16   227950         1  227950.0\n2      2018-10-20     2018-10-21   392850         1  392850.0\n3      2018-10-25     2018-10-28  1076700         3  358900.0\n4      2018-10-25     2018-10-26   358900         1  358900.0\n..            ...            ...      ...       ...       ...\n317    2019-08-31     2019-09-01   682000         1  682000.0\n318    2019-09-01     2019-09-02   426800         1  426800.0\n319    2019-10-11     2019-10-12   426800         1  426800.0\n320    2019-10-25     2019-10-26   545600         1  545600.0\n321    2019-11-24     2019-11-25   496000         1  496000.0\n\n[322 rows x 5 columns]",
      "text/html": "<div>\n<style scoped>\n    .dataframe tbody tr th:only-of-type {\n        vertical-align: middle;\n    }\n\n    .dataframe tbody tr th {\n        vertical-align: top;\n    }\n\n    .dataframe thead th {\n        text-align: right;\n    }\n</style>\n<table border=\"1\" class=\"dataframe\">\n  <thead>\n    <tr style=\"text-align: right;\">\n      <th></th>\n      <th>check_in_date</th>\n      <th>check_out_date</th>\n      <th>price</th>\n      <th>night_no</th>\n      <th>punit</th>\n    </tr>\n  </thead>\n  <tbody>\n    <tr>\n      <td>0</td>\n      <td>2018-10-14</td>\n      <td>2018-10-15</td>\n      <td>226495</td>\n      <td>1</td>\n      <td>226495.0</td>\n    </tr>\n    <tr>\n      <td>1</td>\n      <td>2018-10-15</td>\n      <td>2018-10-16</td>\n      <td>227950</td>\n      <td>1</td>\n      <td>227950.0</td>\n    </tr>\n    <tr>\n      <td>2</td>\n      <td>2018-10-20</td>\n      <td>2018-10-21</td>\n      <td>392850</td>\n      <td>1</td>\n      <td>392850.0</td>\n    </tr>\n    <tr>\n      <td>3</td>\n      <td>2018-10-25</td>\n      <td>2018-10-28</td>\n      <td>1076700</td>\n      <td>3</td>\n      <td>358900.0</td>\n    </tr>\n    <tr>\n      <td>4</td>\n      <td>2018-10-25</td>\n      <td>2018-10-26</td>\n      <td>358900</td>\n      <td>1</td>\n      <td>358900.0</td>\n    </tr>\n    <tr>\n      <td>...</td>\n      <td>...</td>\n      <td>...</td>\n      <td>...</td>\n      <td>...</td>\n      <td>...</td>\n    </tr>\n    <tr>\n      <td>317</td>\n      <td>2019-08-31</td>\n      <td>2019-09-01</td>\n      <td>682000</td>\n      <td>1</td>\n      <td>682000.0</td>\n    </tr>\n    <tr>\n      <td>318</td>\n      <td>2019-09-01</td>\n      <td>2019-09-02</td>\n      <td>426800</td>\n      <td>1</td>\n      <td>426800.0</td>\n    </tr>\n    <tr>\n      <td>319</td>\n      <td>2019-10-11</td>\n      <td>2019-10-12</td>\n      <td>426800</td>\n      <td>1</td>\n      <td>426800.0</td>\n    </tr>\n    <tr>\n      <td>320</td>\n      <td>2019-10-25</td>\n      <td>2019-10-26</td>\n      <td>545600</td>\n      <td>1</td>\n      <td>545600.0</td>\n    </tr>\n    <tr>\n      <td>321</td>\n      <td>2019-11-24</td>\n      <td>2019-11-25</td>\n      <td>496000</td>\n      <td>1</td>\n      <td>496000.0</td>\n    </tr>\n  </tbody>\n</table>\n<p>322 rows × 5 columns</p>\n</div>"
     },
     "metadata": {},
     "execution_count": 3
    }
   ],
   "source": [
    "# MARK:- calculating number of nights and price for each night for each period\n",
    "data_df['night_no'] = data_df.apply(lambda row: (row['check_out_date'] - row['check_in_date']).days, axis=1)\n",
    "data_df['punit'] = data_df.price / data_df.night_no\n",
    "data_df"
   ]
  },
  {
   "cell_type": "code",
   "execution_count": 4,
   "metadata": {},
   "outputs": [],
   "source": [
    "# MARK:- requirements for function f\n",
    "min_range = min(data_df.check_in_date).date()\n",
    "max_range = max(data_df.check_out_date).date()\n",
    "relieve = pd.DataFrame(pd.date_range(min_range, max_range))\n",
    "relieve.columns = ['day']\n",
    "relieve['prices'] = relieve.day.apply(lambda x: [row['punit'] for idx, row in data_df.iterrows() if row['check_in_date'] <= x < row['check_out_date']])\n",
    "relieve['maxprice'] = relieve.prices.apply(lambda x : 0 if not x else max(x))"
   ]
  },
  {
   "cell_type": "code",
   "execution_count": 5,
   "metadata": {
    "tags": []
   },
   "outputs": [
    {
     "output_type": "execute_result",
     "data": {
      "text/plain": "407400.0"
     },
     "metadata": {},
     "execution_count": 5
    }
   ],
   "source": [
    "def f(x):\n",
    "    if x not in relieve.day.astype(str).values:\n",
    "        return\n",
    "    return relieve[relieve.day.astype(str) == x].maxprice.values[0]\n",
    "f('2018-11-17')"
   ]
  },
  {
   "cell_type": "code",
   "execution_count": 6,
   "metadata": {},
   "outputs": [
    {
     "output_type": "execute_result",
     "data": {
      "text/plain": "133731735.0"
     },
     "metadata": {},
     "execution_count": 6
    }
   ],
   "source": [
    "max_sum = relieve.maxprice.sum()\n",
    "max_sum"
   ]
  },
  {
   "cell_type": "code",
   "execution_count": null,
   "metadata": {},
   "outputs": [],
   "source": []
  }
 ]
}